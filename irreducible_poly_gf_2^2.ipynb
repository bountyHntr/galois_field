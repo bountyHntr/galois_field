{
 "cells": [
  {
   "cell_type": "code",
   "execution_count": 2,
   "metadata": {},
   "outputs": [],
   "source": [
    "import numpy as np"
   ]
  },
  {
   "cell_type": "markdown",
   "metadata": {},
   "source": [
    "tbl - таблица, элементы которой соответствуют степеням примитивного элемента $\\beta$ поля $GF(2^2)$, построенного по модулю неприводимого многочлена $x^2 + x + 1$. Таким образом $\\beta^i = tbl[i], i=0..3$ "
   ]
  },
  {
   "cell_type": "code",
   "execution_count": 3,
   "metadata": {},
   "outputs": [],
   "source": [
    "tbl = np.array([\n",
    "    [0, 1],\n",
    "    [1, 0],\n",
    "    [1, 1]\n",
    "])"
   ]
  },
  {
   "cell_type": "code",
   "execution_count": 4,
   "metadata": {},
   "outputs": [],
   "source": [
    "# получаем степень  beta, представление элемента через генератор поля\n",
    "def get_deg(a):\n",
    "    if all(a == 0):\n",
    "        return None\n",
    "    for i in range(len(tbl)):\n",
    "        if all(tbl[i] == a):\n",
    "            return i\n",
    "\n",
    "# Произведение 2 элементов в GF(2 ^ 2) через экспоненциальное представление\n",
    "def mul2(a, b):\n",
    "    if (all(a == 0) or all(b == 0)):\n",
    "        return np.zeros((2,)).astype(int)\n",
    "    return tbl[(get_deg(a) + get_deg(b)) % 3]\n",
    "\n",
    "# Сумма 2 елементов в GF(2 ^ 2)\n",
    "def sum2(a, b):\n",
    "    return a ^ b\n",
    "\n",
    "# Деление 2 элементов в GF(2 ^ 2) через экспоненциальное представление\n",
    "def div2(a, b):\n",
    "    if (all(a == 0) or all(b == 0)):\n",
    "        raise ValueError\n",
    "    return tbl[(get_deg(a) - get_deg(b)) % 3]"
   ]
  },
  {
   "cell_type": "code",
   "execution_count": 7,
   "metadata": {},
   "outputs": [],
   "source": [
    "# функция деления многочлена на многочлен столбиком с коэффициентами в поле GF(2^2)\n",
    "def poly_div(poly, div):\n",
    "    if len(div) > len(poly):\n",
    "        raise ValueError\n",
    "    answ = [0] * len(poly)\n",
    "\n",
    "    p_copy = poly.copy()\n",
    "    while len(p_copy) >= len(div):\n",
    "        ind = len(p_copy) - len(div)\n",
    "        answ[ind] = div2(p_copy[0], div[0])\n",
    "\n",
    "        s = [mul2(answ[ind], div[i]) for i in range(len(div))]\n",
    "        for i in range(ind):\n",
    "            s.append([0, 0])\n",
    "\n",
    "        s = np.array(s)\n",
    "        for i in range(len(p_copy)):\n",
    "            p_copy[i] = sum2(p_copy[i], s[i])\n",
    "\n",
    "        i = 0\n",
    "        while i < len(p_copy) and all(p_copy[i] == 0):\n",
    "            i += 1\n",
    "\n",
    "        if i == len(p_copy):\n",
    "            return np.zeros((2, ))\n",
    "        else:\n",
    "            p_copy = p_copy[i:]\n",
    "\n",
    "    return p_copy"
   ]
  },
  {
   "cell_type": "markdown",
   "metadata": {},
   "source": [
    "Будем представлять каждый полином, как вектор кэффициентов, т.е. $a_n x^n + a_{n-1} x^{n - 1} + ... + a_1 x + a_0$ представим в виде массива $[a_n, a_{n-1}, ..., a_1, a_0]$. Так как мы ищем полином 2 степени вида $x^2 + sx + k; s, k \\in GF(2^2)$, неприводимый в $GF(2^2)$, то сосздадим массив polynomials всех полиномов степени 1, которые могут являться делителями полинома $x^2 + sx + k$."
   ]
  },
  {
   "cell_type": "code",
   "execution_count": 8,
   "metadata": {},
   "outputs": [],
   "source": [
    "polynomials = []\n",
    "\n",
    "for i in range(3):\n",
    "    polynomials.append([tbl[i], np.zeros((2, )).astype(int)])\n",
    "\n",
    "for i in range(3):\n",
    "    for j in range(3):\n",
    "        polynomials.append([tbl[i], tbl[j]])\n",
    "\n",
    "polynomials = np.array(polynomials)"
   ]
  },
  {
   "cell_type": "markdown",
   "metadata": {},
   "source": [
    "Переберем все возможные $s, k \\in GF(2^2)$ и найдем подходящие полиномы вида $x^2 + sx + k$."
   ]
  },
  {
   "cell_type": "code",
   "execution_count": 9,
   "metadata": {},
   "outputs": [
    {
     "name": "stdout",
     "output_type": "stream",
     "text": [
      "Полином неприводимый при s = [0 1]   k=[1 0]\n",
      "Полином неприводимый при s = [0 1]   k=[1 1]\n",
      "Полином неприводимый при s = [1 0]   k=[0 1]\n",
      "Полином неприводимый при s = [1 0]   k=[1 0]\n",
      "Полином неприводимый при s = [1 1]   k=[0 1]\n",
      "Полином неприводимый при s = [1 1]   k=[1 1]\n"
     ]
    }
   ],
   "source": [
    "for s in tbl:\n",
    "    for k in tbl:\n",
    "        poly = np.array([tbl[0], s, k])\n",
    "        for div in polynomials:\n",
    "            if all(poly_div(poly, div).ravel() == 0):\n",
    "                break\n",
    "        else:\n",
    "            print(f'Полином неприводимый при s = {s}   k={k}')"
   ]
  },
  {
   "cell_type": "markdown",
   "metadata": {},
   "source": [
    "Найдем остатки от деления полинома $x^2 + [0, 1]x + [1, 0]$ на все полиномы 1 степени с коэффициентами в $GF(2^2)$ и удостоверимся, что он неприводимый."
   ]
  },
  {
   "cell_type": "code",
   "execution_count": 11,
   "metadata": {},
   "outputs": [
    {
     "name": "stdout",
     "output_type": "stream",
     "text": [
      "остаток от деления на [[0, 1], [0, 0]] = [[1 0]]\n",
      "\n",
      "остаток от деления на [[1, 0], [0, 0]] = [[1 0]]\n",
      "\n",
      "остаток от деления на [[1, 1], [0, 0]] = [[1 0]]\n",
      "\n",
      "остаток от деления на [[0, 1], [0, 1]] = [[1 0]]\n",
      "\n",
      "остаток от деления на [[0, 1], [1, 0]] = [[1 1]]\n",
      "\n",
      "остаток от деления на [[0, 1], [1, 1]] = [[1 1]]\n",
      "\n",
      "остаток от деления на [[1, 0], [0, 1]] = [[1 1]]\n",
      "\n",
      "остаток от деления на [[1, 0], [1, 0]] = [[1 0]]\n",
      "\n",
      "остаток от деления на [[1, 0], [1, 1]] = [[1 1]]\n",
      "\n",
      "остаток от деления на [[1, 1], [0, 1]] = [[1 1]]\n",
      "\n",
      "остаток от деления на [[1, 1], [1, 0]] = [[1 1]]\n",
      "\n",
      "остаток от деления на [[1, 1], [1, 1]] = [[1 0]]\n",
      "\n"
     ]
    }
   ],
   "source": [
    "poly = np.array([tbl[0], tbl[0], tbl[1]])\n",
    "for div in polynomials:\n",
    "    print(f'остаток от деления на {div.tolist()} = {poly_div(poly, div)}\\n')"
   ]
  },
  {
   "cell_type": "markdown",
   "metadata": {},
   "source": [
    "Таким образом, полином $x^2 + [0, 1]x + [1, 0]$ явлется неприводимым в $GF(2^2)$, и мы по можем строить поле $GF((2^2)^2)$ по модулю $x^2 + [0, 1]x + [1, 0]$."
   ]
  },
  {
   "cell_type": "code",
   "execution_count": null,
   "metadata": {},
   "outputs": [],
   "source": []
  }
 ],
 "metadata": {
  "kernelspec": {
   "display_name": "Python 3",
   "language": "python",
   "name": "python3"
  },
  "language_info": {
   "codemirror_mode": {
    "name": "ipython",
    "version": 3
   },
   "file_extension": ".py",
   "mimetype": "text/x-python",
   "name": "python",
   "nbconvert_exporter": "python",
   "pygments_lexer": "ipython3",
   "version": "3.7.6"
  }
 },
 "nbformat": 4,
 "nbformat_minor": 4
}
